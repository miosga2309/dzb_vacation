{
 "cells": [
  {
   "cell_type": "code",
   "execution_count": 1,
   "metadata": {},
   "outputs": [
    {
     "name": "stdout",
     "output_type": "stream",
     "text": [
      "Requirement already satisfied: shapely in /Library/Frameworks/Python.framework/Versions/3.7/lib/python3.7/site-packages (1.7.1)\n",
      "\u001b[33mYou are using pip version 19.0.3, however version 20.2.3 is available.\n",
      "You should consider upgrading via the 'pip install --upgrade pip' command.\u001b[0m\n",
      "Requirement already satisfied: geopandas in /Library/Frameworks/Python.framework/Versions/3.7/lib/python3.7/site-packages (0.8.1)\n",
      "Requirement already satisfied: fiona in /Library/Frameworks/Python.framework/Versions/3.7/lib/python3.7/site-packages (from geopandas) (1.8.17)\n",
      "Requirement already satisfied: pandas>=0.23.0 in /Library/Frameworks/Python.framework/Versions/3.7/lib/python3.7/site-packages (from geopandas) (0.25.1)\n",
      "Requirement already satisfied: shapely in /Library/Frameworks/Python.framework/Versions/3.7/lib/python3.7/site-packages (from geopandas) (1.7.1)\n",
      "Requirement already satisfied: pyproj>=2.2.0 in /Library/Frameworks/Python.framework/Versions/3.7/lib/python3.7/site-packages (from geopandas) (2.6.1.post1)\n",
      "Requirement already satisfied: attrs>=17 in /Library/Frameworks/Python.framework/Versions/3.7/lib/python3.7/site-packages (from fiona->geopandas) (19.3.0)\n",
      "Requirement already satisfied: six>=1.7 in /Library/Frameworks/Python.framework/Versions/3.7/lib/python3.7/site-packages (from fiona->geopandas) (1.12.0)\n",
      "Requirement already satisfied: cligj>=0.5 in /Library/Frameworks/Python.framework/Versions/3.7/lib/python3.7/site-packages (from fiona->geopandas) (0.5.0)\n",
      "Requirement already satisfied: click<8,>=4.0 in /Library/Frameworks/Python.framework/Versions/3.7/lib/python3.7/site-packages (from fiona->geopandas) (7.1.2)\n",
      "Requirement already satisfied: munch in /Library/Frameworks/Python.framework/Versions/3.7/lib/python3.7/site-packages (from fiona->geopandas) (2.5.0)\n",
      "Requirement already satisfied: click-plugins>=1.0 in /Library/Frameworks/Python.framework/Versions/3.7/lib/python3.7/site-packages (from fiona->geopandas) (1.1.1)\n",
      "Requirement already satisfied: python-dateutil>=2.6.1 in /Library/Frameworks/Python.framework/Versions/3.7/lib/python3.7/site-packages (from pandas>=0.23.0->geopandas) (2.8.0)\n",
      "Requirement already satisfied: pytz>=2017.2 in /Library/Frameworks/Python.framework/Versions/3.7/lib/python3.7/site-packages (from pandas>=0.23.0->geopandas) (2019.2)\n",
      "Requirement already satisfied: numpy>=1.13.3 in /Library/Frameworks/Python.framework/Versions/3.7/lib/python3.7/site-packages (from pandas>=0.23.0->geopandas) (1.17.2)\n",
      "\u001b[33mYou are using pip version 19.0.3, however version 20.2.3 is available.\n",
      "You should consider upgrading via the 'pip install --upgrade pip' command.\u001b[0m\n",
      "Requirement already satisfied: branca in /Library/Frameworks/Python.framework/Versions/3.7/lib/python3.7/site-packages (0.3.1)\n",
      "Requirement already satisfied: six in /Library/Frameworks/Python.framework/Versions/3.7/lib/python3.7/site-packages (from branca) (1.12.0)\n",
      "Requirement already satisfied: jinja2 in /Library/Frameworks/Python.framework/Versions/3.7/lib/python3.7/site-packages (from branca) (2.10.3)\n",
      "Requirement already satisfied: MarkupSafe>=0.23 in /Library/Frameworks/Python.framework/Versions/3.7/lib/python3.7/site-packages (from jinja2->branca) (1.1.1)\n",
      "\u001b[33mYou are using pip version 19.0.3, however version 20.2.3 is available.\n",
      "You should consider upgrading via the 'pip install --upgrade pip' command.\u001b[0m\n"
     ]
    }
   ],
   "source": [
    "import folium\n",
    "import pandas\n",
    "import folium.plugins as plugins\n",
    "from ipywidgets import interact\n",
    "import sys\n",
    "!{sys.executable} -m pip install shapely\n",
    "!{sys.executable} -m pip install geopandas\n",
    "!{sys.executable} -m pip install branca\n",
    "from shapely.geometry import Point, shape\n",
    "import geopandas as gpd\n",
    "from branca.colormap import linear"
   ]
  },
  {
   "cell_type": "code",
   "execution_count": 3,
   "metadata": {},
   "outputs": [],
   "source": [
    "df1 = pandas.read_csv(\"/Users/jonasmiosga/Desktop/dzb_vacation/urlaub.csv\",decimal=',')"
   ]
  },
  {
   "cell_type": "code",
   "execution_count": 4,
   "metadata": {},
   "outputs": [
    {
     "data": {
      "text/html": [
       "<div>\n",
       "<style scoped>\n",
       "    .dataframe tbody tr th:only-of-type {\n",
       "        vertical-align: middle;\n",
       "    }\n",
       "\n",
       "    .dataframe tbody tr th {\n",
       "        vertical-align: top;\n",
       "    }\n",
       "\n",
       "    .dataframe thead th {\n",
       "        text-align: right;\n",
       "    }\n",
       "</style>\n",
       "<table border=\"1\" class=\"dataframe\">\n",
       "  <thead>\n",
       "    <tr style=\"text-align: right;\">\n",
       "      <th></th>\n",
       "      <th>country</th>\n",
       "      <th>city</th>\n",
       "      <th>year</th>\n",
       "      <th>startdate</th>\n",
       "      <th>cost</th>\n",
       "      <th>length</th>\n",
       "      <th>longitude</th>\n",
       "      <th>latitude</th>\n",
       "      <th>members</th>\n",
       "    </tr>\n",
       "  </thead>\n",
       "  <tbody>\n",
       "    <tr>\n",
       "      <td>0</td>\n",
       "      <td>Niederlande</td>\n",
       "      <td>Dalen</td>\n",
       "      <td>2013</td>\n",
       "      <td>31.01.2013</td>\n",
       "      <td>67</td>\n",
       "      <td>3</td>\n",
       "      <td>52.674</td>\n",
       "      <td>6.770</td>\n",
       "      <td>10</td>\n",
       "    </tr>\n",
       "    <tr>\n",
       "      <td>1</td>\n",
       "      <td>Niederlande</td>\n",
       "      <td>Dalen</td>\n",
       "      <td>2014</td>\n",
       "      <td>30.01.2014</td>\n",
       "      <td>80</td>\n",
       "      <td>3</td>\n",
       "      <td>52.676</td>\n",
       "      <td>6.766</td>\n",
       "      <td>11</td>\n",
       "    </tr>\n",
       "    <tr>\n",
       "      <td>2</td>\n",
       "      <td>Tschechien</td>\n",
       "      <td>Prag</td>\n",
       "      <td>2015</td>\n",
       "      <td>30.05.2015</td>\n",
       "      <td>90</td>\n",
       "      <td>3</td>\n",
       "      <td>50.082</td>\n",
       "      <td>14.428</td>\n",
       "      <td>8</td>\n",
       "    </tr>\n",
       "    <tr>\n",
       "      <td>3</td>\n",
       "      <td>Niederlande</td>\n",
       "      <td>Lemmer</td>\n",
       "      <td>2016</td>\n",
       "      <td>01.05.2016</td>\n",
       "      <td>180</td>\n",
       "      <td>4</td>\n",
       "      <td>52.863</td>\n",
       "      <td>5.852</td>\n",
       "      <td>10</td>\n",
       "    </tr>\n",
       "    <tr>\n",
       "      <td>4</td>\n",
       "      <td>Portugal</td>\n",
       "      <td>Porto</td>\n",
       "      <td>2017</td>\n",
       "      <td>10.05.2017</td>\n",
       "      <td>147</td>\n",
       "      <td>4</td>\n",
       "      <td>41.083</td>\n",
       "      <td>-8.654</td>\n",
       "      <td>7</td>\n",
       "    </tr>\n",
       "    <tr>\n",
       "      <td>5</td>\n",
       "      <td>Griechenland</td>\n",
       "      <td>Thessaloniki</td>\n",
       "      <td>2018</td>\n",
       "      <td>08.05.2018</td>\n",
       "      <td>145</td>\n",
       "      <td>7</td>\n",
       "      <td>40.647</td>\n",
       "      <td>22.950</td>\n",
       "      <td>8</td>\n",
       "    </tr>\n",
       "    <tr>\n",
       "      <td>6</td>\n",
       "      <td>Kroatien</td>\n",
       "      <td>Zadar</td>\n",
       "      <td>2019</td>\n",
       "      <td>27.05.2019</td>\n",
       "      <td>140</td>\n",
       "      <td>4</td>\n",
       "      <td>44.170</td>\n",
       "      <td>15.184</td>\n",
       "      <td>10</td>\n",
       "    </tr>\n",
       "    <tr>\n",
       "      <td>7</td>\n",
       "      <td>Österreich</td>\n",
       "      <td>Wien</td>\n",
       "      <td>2019</td>\n",
       "      <td>01.11.2019</td>\n",
       "      <td>130</td>\n",
       "      <td>3</td>\n",
       "      <td>48.207</td>\n",
       "      <td>16.338</td>\n",
       "      <td>7</td>\n",
       "    </tr>\n",
       "  </tbody>\n",
       "</table>\n",
       "</div>"
      ],
      "text/plain": [
       "        country          city  year   startdate  cost  length  longitude  \\\n",
       "0   Niederlande         Dalen  2013  31.01.2013    67       3     52.674   \n",
       "1   Niederlande         Dalen  2014  30.01.2014    80       3     52.676   \n",
       "2    Tschechien          Prag  2015  30.05.2015    90       3     50.082   \n",
       "3   Niederlande        Lemmer  2016  01.05.2016   180       4     52.863   \n",
       "4      Portugal         Porto  2017  10.05.2017   147       4     41.083   \n",
       "5  Griechenland  Thessaloniki  2018  08.05.2018   145       7     40.647   \n",
       "6      Kroatien         Zadar  2019  27.05.2019   140       4     44.170   \n",
       "7    Österreich          Wien  2019  01.11.2019   130       3     48.207   \n",
       "\n",
       "   latitude  members  \n",
       "0     6.770       10  \n",
       "1     6.766       11  \n",
       "2    14.428        8  \n",
       "3     5.852       10  \n",
       "4    -8.654        7  \n",
       "5    22.950        8  \n",
       "6    15.184       10  \n",
       "7    16.338        7  "
      ]
     },
     "execution_count": 4,
     "metadata": {},
     "output_type": "execute_result"
    }
   ],
   "source": [
    "df1"
   ]
  },
  {
   "cell_type": "code",
   "execution_count": 5,
   "metadata": {},
   "outputs": [],
   "source": [
    "tiles = [name.strip() for name in \"\"\"\n",
    "    OpenStreetMap\n",
    "    Stamen Terrain\n",
    "    Stamen Toner\n",
    "    Stamen Watercolor\n",
    "    CartoDB positron\n",
    "    CartoDB dark_matter\"\"\".strip().split('\\n')]"
   ]
  },
  {
   "cell_type": "code",
   "execution_count": 6,
   "metadata": {},
   "outputs": [],
   "source": [
    "mymap = folium.Map([47.280844, 10.598557], zoom_start = 4)\n",
    "\n",
    "fg_vacation = folium.FeatureGroup(name='Vacation')"
   ]
  },
  {
   "cell_type": "code",
   "execution_count": 7,
   "metadata": {},
   "outputs": [],
   "source": [
    "marker_cluster_v = plugins.MarkerCluster()\n",
    "for row in df1.iterrows():\n",
    "\n",
    "    marker_v = folium.CircleMarker(location=(row[1][6], row[1][7]),popup=row[1][2],color=\"#F30707\", radius= 8)\n",
    "    marker_cluster_v.add_child(marker_v)\n"
   ]
  },
  {
   "cell_type": "code",
   "execution_count": 8,
   "metadata": {},
   "outputs": [],
   "source": [
    "#polygon_cl = plugins.CirclePattern()\n",
    "#polygon = folium.Polygon(locations=[(52,6),(51,7),(50,8),(49,5)],color=\"#F30707\")\n",
    "#polygon_cl.add_child(polygon)"
   ]
  },
  {
   "cell_type": "code",
   "execution_count": 9,
   "metadata": {},
   "outputs": [
    {
     "data": {
      "text/plain": [
       "<folium.features.GeoJson at 0x7fd5bff20bd0>"
      ]
     },
     "execution_count": 9,
     "metadata": {},
     "output_type": "execute_result"
    }
   ],
   "source": [
    "dept_geo = gpd.read_file('gemeinden_simplify200.geojson', driver='GeoJSON')\n",
    "#departments = {'75', '77', '78', '91', '92', '93', '94', '95'}\n",
    "dept_geo = dept_geo\n",
    "\n",
    "polygon_map = folium.Map(location=[48.716614, 2.3522219],zoom_start = 9, tiles='cartodbpositron')\n",
    "\n",
    "#nbh_count_colormap = linear.YlGnBu_09.scale(min(df1['members']),max(df1['members']))\n",
    "\n",
    "#style_function = lambda x: {\n",
    "    #'fillColor': nbh_count_colormap(x['properties']['nb']),\n",
    "    #'color': 'black',\n",
    "    #'weight': 1.5,\n",
    "    #'fillOpacity': 0.7\n",
    "#}\n",
    "\n",
    "folium.GeoJson(\n",
    "    dept_geo,\n",
    "    style_function = lambda x: {\n",
    "        'color': 'black',\n",
    "        'weight': 2.5,\n",
    "        'fillOpacity': 0\n",
    "    },\n",
    "    name='Departement').add_to(mymap)\n",
    "\n",
    "#nbh_count_colormap.add_to(polygon_map)\n",
    "#nbh_count_colormap.caption = 'Territory'\n",
    "#nbh_count_colormap.add_to(polygon_map)"
   ]
  },
  {
   "cell_type": "code",
   "execution_count": 10,
   "metadata": {},
   "outputs": [
    {
     "data": {
      "text/plain": [
       "<folium.map.FeatureGroup at 0x7fd5bfeabd90>"
      ]
     },
     "execution_count": 10,
     "metadata": {},
     "output_type": "execute_result"
    }
   ],
   "source": [
    "fg_vacation.add_child(marker_cluster_v)\n",
    "#fg_vacation.add_child(polygon_cl)"
   ]
  },
  {
   "cell_type": "code",
   "execution_count": 11,
   "metadata": {},
   "outputs": [
    {
     "data": {
      "text/html": [
       "<div style=\"width:100%;\"><div style=\"position:relative;width:100%;height:0;padding-bottom:60%;\"><iframe src=\"data:text/html;charset=utf-8;base64,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\" style=\"position:absolute;width:100%;height:100%;left:0;top:0;border:none !important;\" allowfullscreen webkitallowfullscreen mozallowfullscreen></iframe></div></div>"
      ],
      "text/plain": [
       "<folium.folium.Map at 0x7fd5bfeff590>"
      ]
     },
     "execution_count": 11,
     "metadata": {},
     "output_type": "execute_result"
    }
   ],
   "source": [
    "mymap.add_child(fg_vacation)"
   ]
  },
  {
   "cell_type": "code",
   "execution_count": 12,
   "metadata": {},
   "outputs": [],
   "source": [
    "mymap.save('index.html')"
   ]
  }
 ],
 "metadata": {
  "kernelspec": {
   "display_name": "Python 3",
   "language": "python",
   "name": "python3"
  },
  "language_info": {
   "codemirror_mode": {
    "name": "ipython",
    "version": 3
   },
   "file_extension": ".py",
   "mimetype": "text/x-python",
   "name": "python",
   "nbconvert_exporter": "python",
   "pygments_lexer": "ipython3",
   "version": "3.7.4"
  }
 },
 "nbformat": 4,
 "nbformat_minor": 2
}
